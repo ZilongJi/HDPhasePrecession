{
 "cells": [
  {
   "cell_type": "code",
   "execution_count": 1,
   "metadata": {},
   "outputs": [],
   "source": [
    "import os\n",
    "import scipy.io as sio\n",
    "import matplotlib.pyplot as plt\n",
    "import utils\n",
    "\n",
    "%load_ext autoreload\n",
    "%autoreload 2\n"
   ]
  },
  {
   "cell_type": "code",
   "execution_count": 2,
   "metadata": {},
   "outputs": [],
   "source": [
    "def load_anticipation(mousetrial):\n",
    "    \n",
    "    '''\n",
    "    Load the data for a given mouse trial\n",
    "    Inputs:\n",
    "    mousetrial: string, the name of the mouse trial\n",
    "    brainarea: string, the brain area to filter the cells\n",
    "    celltype: string, the cell type to filter the cells\n",
    "    '''\n",
    "    \n",
    "    #load time and head direction\n",
    "    file = 'HdTuning_AnticipCorr.mat'\n",
    "    \n",
    "    data = sio.loadmat(mousetrial + '/' + file, struct_as_record=False, squeeze_me=True)\n",
    "    \n",
    "    lagVec = data.get('lagVec')\n",
    "    hdinfo_lag = data.get('hdInfo_lag')\n",
    "    \n",
    "    peak_lag = []\n",
    "    #get the peak lag for each cell\n",
    "    for i in range(hdinfo_lag.shape[1]):\n",
    "        lag = lagVec[hdinfo_lag[:,i].argmax()]\n",
    "        peak_lag.append(lag)\n",
    "        \n",
    "    return peak_lag"
   ]
  },
  {
   "cell_type": "markdown",
   "metadata": {},
   "source": [
    "### example"
   ]
  },
  {
   "cell_type": "code",
   "execution_count": 7,
   "metadata": {},
   "outputs": [],
   "source": [
    "mousetrial = '/home/zilong/Desktop/HDPhasePrecession/DuszkiewiczData/Dataset_5/A1104-180328/Analysis/'\n",
    "\n",
    "peak_lag  = load_anticipation(mousetrial)"
   ]
  },
  {
   "cell_type": "markdown",
   "metadata": {},
   "source": [
    "### check all HD cells in ADN (Dataset_5)"
   ]
  },
  {
   "cell_type": "code",
   "execution_count": 10,
   "metadata": {},
   "outputs": [],
   "source": [
    "# all folders in /home/zilong/Desktop/HDPhasePrecession/DuszkiewiczData/Dataset_5\n",
    "dataset = 'Dataset_5'\n",
    "folders = os.listdir('/home/zilong/Desktop/HDPhasePrecession/DuszkiewiczData/' + dataset)\n",
    "\n",
    "adn_optimalshift = []\n",
    "\n",
    "for folder in folders:\n",
    "    mousetrial = '/home/zilong/Desktop/HDPhasePrecession/DuszkiewiczData/' + dataset + '/' + folder + '/Analysis/'\n",
    "    \n",
    "    #load anticipation data\n",
    "    peak_lag  = load_anticipation(mousetrial)\n",
    "    \n",
    "    mousetrial = '/home/zilong/Desktop/HDPhasePrecession/DuszkiewiczData/' + dataset + '/' + folder + '/Data/'\n",
    "    data = utils.load_data(mousetrial)\n",
    "    t = data['t']\n",
    "    angle_data = data['angle_data']\n",
    "    brainarea = data['adn'] #adn = data['pos']\n",
    "    hd = data['hd']\n",
    "    \n",
    "    for i in range(len(brainarea)):\n",
    "        if brainarea[i] == 1 and hd[i] == 1: #it is a head direction cell in the target brain area\n",
    "            adn_optimalshift.append(peak_lag[i])\n",
    "            \n",
    "    \n",
    "    "
   ]
  },
  {
   "cell_type": "markdown",
   "metadata": {},
   "source": [
    "### check all HD cells in PoS (Dataset_1)"
   ]
  },
  {
   "cell_type": "code",
   "execution_count": 8,
   "metadata": {},
   "outputs": [],
   "source": [
    "# all folders in /home/zilong/Desktop/HDPhasePrecession/DuszkiewiczData/Dataset_5\n",
    "dataset = 'Dataset_1'\n",
    "folders = os.listdir('/home/zilong/Desktop/HDPhasePrecession/DuszkiewiczData/' + dataset)\n",
    "\n",
    "pos_optimalshift = []\n",
    "\n",
    "for folder in folders:\n",
    "    mousetrial = '/home/zilong/Desktop/HDPhasePrecession/DuszkiewiczData/' + dataset + '/' + folder + '/Analysis/'\n",
    "    \n",
    "    #load anticipation data\n",
    "    peak_lag  = load_anticipation(mousetrial)\n",
    "    \n",
    "    mousetrial = '/home/zilong/Desktop/HDPhasePrecession/DuszkiewiczData/' + dataset + '/' + folder + '/Data/'\n",
    "    data = utils.load_data(mousetrial)\n",
    "    t = data['t']\n",
    "    angle_data = data['angle_data']\n",
    "    brainarea = data['pos'] #adn = data['pos']\n",
    "    hd = data['hd']\n",
    "    \n",
    "    for i in range(len(brainarea)):\n",
    "        if brainarea[i] == 1 and hd[i] == 1: #it is a head direction cell in the target brain area\n",
    "            pos_optimalshift.append(peak_lag[i])\n",
    "            \n",
    "    \n",
    "    "
   ]
  },
  {
   "cell_type": "code",
   "execution_count": 23,
   "metadata": {},
   "outputs": [
    {
     "data": {
      "image/png": "[encoded data removed]",
      "text/plain": [
       "<Figure size 500x300 with 1 Axes>"
      ]
     },
     "metadata": {},
     "output_type": "display_data"
    }
   ],
   "source": [
    "#plot the distribution of optimal shift in ADN and POS using normalized histogram\n",
    "fig, ax = plt.subplots(1, 1, figsize=(5, 3))\n",
    "\n",
    "xrange = [-0.1, 0.15]\n",
    "bins = 20\n",
    "\n",
    "#only keeo histgram contours\n",
    "ax.hist(adn_optimalshift, bins=bins, range=xrange, density=True, alpha=0.5, color='blue', label='ADN', histtype='step')\n",
    "ax.hist(pos_optimalshift, bins=bins, range=xrange, density=True, alpha=0.5, color='red', label='POS', histtype='step')\n",
    "\n",
    "#x=0 line\n",
    "ax.axvline(x=0, color='black', linestyle='--')\n",
    "\n",
    "ax.set_xlabel('Optimal shift (s)')\n",
    "ax.set_ylabel('Normalized count')\n",
    "ax.legend()\n",
    "\n",
    "ax.spines['top'].set_visible(False)\n",
    "ax.spines['right'].set_visible(False)\n",
    "plt.show()"
   ]
  },
  {
   "cell_type": "code",
   "execution_count": null,
   "metadata": {},
   "outputs": [],
   "source": []
  }
 ],
 "metadata": {
  "kernelspec": {
   "display_name": "HDPhasePrecession",
   "language": "python",
   "name": "python3"
  },
  "language_info": {
   "codemirror_mode": {
    "name": "ipython",
    "version": 3
   },
   "file_extension": ".py",
   "mimetype": "text/x-python",
   "name": "python",
   "nbconvert_exporter": "python",
   "pygments_lexer": "ipython3",
   "version": "3.9.18"
  }
 },
 "nbformat": 4,
 "nbformat_minor": 2
}
